{
 "cells": [
  {
   "cell_type": "code",
   "execution_count": 6,
   "id": "60eb540e-4a4e-4c54-96f4-34230e06d068",
   "metadata": {},
   "outputs": [
    {
     "name": "stderr",
     "output_type": "stream",
     "text": [
      "C:\\ProgramData\\anaconda3\\envs\\timm\\lib\\site-packages\\tqdm\\auto.py:21: TqdmWarning: IProgress not found. Please update jupyter and ipywidgets. See https://ipywidgets.readthedocs.io/en/stable/user_install.html\n",
      "  from .autonotebook import tqdm as notebook_tqdm\n"
     ]
    }
   ],
   "source": [
    "import os\n",
    "import sys\n",
    "import timm"
   ]
  },
  {
   "cell_type": "code",
   "execution_count": 7,
   "id": "78bdd3c9-461b-4bfd-898e-f05470e39299",
   "metadata": {},
   "outputs": [],
   "source": [
    "model_names = timm.list_models(pretrained=True)"
   ]
  },
  {
   "cell_type": "code",
   "execution_count": 36,
   "id": "0d7c39c6-7855-4523-8fa8-a794d3882cb5",
   "metadata": {},
   "outputs": [
    {
     "name": "stdout",
     "output_type": "stream",
     "text": [
      "^C\n"
     ]
    }
   ],
   "source": [
    "!python train.py --data-dir C:\\work\\PycharmProjects\\skyeye\\dataset\\L6B\\ARRAY\\L6B_1007_091011th_train_wSynthetic_data_reformat --model convnextv2_base.fcmae_ft_in22k_in1k_384 --batch-size 8 --opt adam --epochs 150"
   ]
  },
  {
   "cell_type": "code",
   "execution_count": null,
   "id": "20b69252-e3bb-4ec9-93aa-f15303849024",
   "metadata": {},
   "outputs": [],
   "source": []
  }
 ],
 "metadata": {
  "kernelspec": {
   "display_name": "Python 3 (ipykernel)",
   "language": "python",
   "name": "python3"
  },
  "language_info": {
   "codemirror_mode": {
    "name": "ipython",
    "version": 3
   },
   "file_extension": ".py",
   "mimetype": "text/x-python",
   "name": "python",
   "nbconvert_exporter": "python",
   "pygments_lexer": "ipython3",
   "version": "3.10.16"
  }
 },
 "nbformat": 4,
 "nbformat_minor": 5
}
